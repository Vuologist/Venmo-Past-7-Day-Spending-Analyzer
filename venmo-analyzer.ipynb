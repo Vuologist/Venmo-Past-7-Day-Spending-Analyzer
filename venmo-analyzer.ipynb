{
 "cells": [
  {
   "cell_type": "code",
   "execution_count": 129,
   "metadata": {},
   "outputs": [],
   "source": [
    "import numpy as np\n",
    "import pandas as pd\n",
    "import pendulum as pdl\n",
    "import util\n",
    "raw_data = pd.read_csv('venmo_statement.csv', skiprows=2)\n"
   ]
  },
  {
   "cell_type": "code",
   "execution_count": 130,
   "metadata": {},
   "outputs": [],
   "source": [
    "# Delete first column\n",
    "del raw_data[raw_data.columns[0]]\n",
    "# Grab following columns\n",
    "data = raw_data[[\"Datetime\", \"Type\", \"Note\", \"Amount (total)\", \"From\", \"To\"]]\n",
    "df = data.query(\"Type in ('Payment', 'Charge')\")\n",
    "# df\n"
   ]
  },
  {
   "cell_type": "code",
   "execution_count": 131,
   "metadata": {},
   "outputs": [],
   "source": [
    "amount_col = \"Amount (total)\"\n",
    "datetime_col = \"Datetime\"\n",
    "\n",
    "\n",
    "def str_float(value: str) -> float:\n",
    "    # value = '+ $36.75'\n",
    "    # value = '- $36.75'\n",
    "    return value.replace('$', '').replace(' ', '').replace('+', '')\n",
    "\n",
    "\n",
    "amount_df = df[[datetime_col, amount_col]].copy()\n",
    "amount_df[datetime_col] = amount_df[datetime_col].apply(pd.to_datetime)\n",
    "amount_df[amount_col] = amount_df[amount_col].apply(str_float).astype(float)\n",
    "amount_df['Type'] = amount_df[amount_col].apply(lambda x: type(x).__name__)\n",
    "# amount_df\n"
   ]
  },
  {
   "cell_type": "code",
   "execution_count": 132,
   "metadata": {},
   "outputs": [],
   "source": [
    "amount_df\n",
    "\n",
    "now = pdl.now()\n",
    "prev_tues = now.previous(pdl.WEDNESDAY)\n",
    "# Find last Tuesday,\n",
    "# then grab data from previous Wed 12:00am to most recent Tuesday at 11:59pm\n",
    "# seven_day_amount_df = amount_df.query()\n",
    "money_in = amount_df.query(\"`Amount (total)` > 0.0\")[amount_col].sum()\n",
    "# amount_df\n"
   ]
  },
  {
   "cell_type": "code",
   "execution_count": 133,
   "metadata": {},
   "outputs": [
    {
     "name": "stdout",
     "output_type": "stream",
     "text": [
      "money in: 704.74\n",
      "money out: -456.58\n",
      "Difference: 248.16\n",
      "2022-09-07T23:59:59.999999-07:00\n",
      "2022-09-06T23:59:59.999999-07:00\n"
     ]
    }
   ],
   "source": [
    "money_in = amount_df.query(\"`Amount (total)` > 0.0\")[amount_col].sum()\n",
    "money_out = amount_df.query(\"`Amount (total)` < 0.0\")[amount_col].sum()\n",
    "\n",
    "\n",
    "print(\"money in: \" + util.format_to_2_decimal(money_in))\n",
    "print(\"money out: \" + util.format_to_2_decimal(money_out))\n",
    "print(\"Difference: \" + util.format_to_2_decimal(money_in-abs(money_out)))\n",
    "\n",
    "# ------\n",
    "# NOTE: this script can only be run between Wed to Monday.\n",
    "\n",
    "now = pdl.now()\n",
    "if (util.should_prev_wed_shift_backwards(now)):\n",
    "    prev_wed = now.previous(pdl.WEDNESDAY).end_of('day')\n",
    "else:\n",
    "    prev_wed = now.previous(pdl.WEDNESDAY).end_of('day')\n",
    "\n",
    "prev_tues = now.previous(pdl.TUESDAY).end_of('day')\n",
    "print(prev_wed)\n",
    "print(prev_tues)\n"
   ]
  }
 ],
 "metadata": {
  "kernelspec": {
   "display_name": "Python 3.9.2 ('jupyter-learn-gtln9eO9')",
   "language": "python",
   "name": "python3"
  },
  "language_info": {
   "codemirror_mode": {
    "name": "ipython",
    "version": 3
   },
   "file_extension": ".py",
   "mimetype": "text/x-python",
   "name": "python",
   "nbconvert_exporter": "python",
   "pygments_lexer": "ipython3",
   "version": "3.9.2"
  },
  "orig_nbformat": 4,
  "vscode": {
   "interpreter": {
    "hash": "45767cfbac2fe684e40475a82c5b74ee1c2b4191137625b23c48147f595e0410"
   }
  }
 },
 "nbformat": 4,
 "nbformat_minor": 2
}
